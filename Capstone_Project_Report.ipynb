{
 "cells": [
  {
   "cell_type": "markdown",
   "metadata": {},
   "source": [
    "# A Strategic Helper for a Coffee Salesman"
   ]
  },
  {
   "cell_type": "markdown",
   "metadata": {},
   "source": [
    "## Part 1: Problem Description"
   ]
  },
  {
   "cell_type": "markdown",
   "metadata": {},
   "source": [
    "### There is a budding Coffee salesman who wants to startegize to improve his sales by exploring the neighborhood and provide coffee to any place which uses it in a definite amount\n",
    "\n",
    "### If I were to give an example one borough has a lot of neighborhoods and determining where to start will be a tough job therefore we categorise the neighborhoods into cluster depending on the number of distinct venues that use or sell coffee in that particular neighborhood\n",
    "\n",
    "### The salesman should be able to strategize on where to start his sales depending upon the conclusion drawn from the data"
   ]
  },
  {
   "cell_type": "markdown",
   "metadata": {},
   "source": [
    "## Part 2: Data Needed"
   ]
  },
  {
   "cell_type": "markdown",
   "metadata": {},
   "source": [
    "### 1. We will be needing information on the borough and neighborhoods that exist and their geographical coordinates and we take the borough to be \"North York\" in the later part of the project. We first extract the full list of Postalcodes, Boroughs and Neighborhoods from Wikipedia and their geographical coordinates from Opencage geocoder API\n",
    "\n",
    "### 2. We will also need data about the venues present in different neighborhoods which we will extract using the \"Foursquare API\" such as the different venue types, venue names, category, etc. present in the neighborhoods"
   ]
  },
  {
   "cell_type": "markdown",
   "metadata": {},
   "source": [
    "## Part 3: Methodology"
   ]
  },
  {
   "cell_type": "markdown",
   "metadata": {},
   "source": [
    "### To draw conclusions from the data the following process was followed\n",
    "\n",
    "### 1. The problem at hand is to increase coffee sales \n",
    "### 2. To do that we need to figure out which neighborhoods in the selected \"North York\" have the required shops which use/sell coffee\n",
    "### 3. So I got the relevant list of neighborhoods from wikipedia and the list of venues in those neighborhoods from consequtive Foursquare API calls which included Venue name, venue type, category, etc.\n",
    "### 4. The next step was to make a list of relevant venue type from those available in the neighborhood and use one hot encoding\n",
    "### 5. Now we extract the relevant venue types from the one onehot encoded data\n",
    "### 6. At this point our dataset is ready to fit into the K Means clustering algorithm\n",
    "### 7. We use K means clustering as we need to cluster or group the similar neighborhoods together\n",
    "### 8. We then apply the kmeans clustering and make 5 clusters\n",
    "### 9. We then take the sum of each of the centroids along the rows which was onehot encoded to check which cluster is more relevant\n"
   ]
  },
  {
   "cell_type": "markdown",
   "metadata": {},
   "source": [
    "## Part 4: Results"
   ]
  },
  {
   "attachments": {},
   "cell_type": "markdown",
   "metadata": {},
   "source": [
    "<img src=\"ss.png\">"
   ]
  },
  {
   "cell_type": "markdown",
   "metadata": {},
   "source": [
    "### As we can see here group/cluster 4 is the best cluster based on the number of required venue categories present\n"
   ]
  },
  {
   "cell_type": "markdown",
   "metadata": {},
   "source": [
    "### The best neighborhood would be \"Humber summit\""
   ]
  },
  {
   "cell_type": "markdown",
   "metadata": {},
   "source": [
    "## Part 5: Discussion\n",
    "\n",
    "### Upon reviewing the above data we can devise two chains of thought\n",
    "\n",
    "### 1. We go in the descending order i.e. the best cluster to be approached first so as to cover more shops\n",
    "\n",
    "### 2. We go in the ascending order i.e. the least favourable cluster first so as to cover more ground and neighborhoods"
   ]
  },
  {
   "cell_type": "markdown",
   "metadata": {},
   "source": [
    "## Part 6: Conclusion\n",
    "### In the end all I can say is the notebook provides enough data to help the salesman to devise a proper strategy for his coffee sales"
   ]
  },
  {
   "cell_type": "code",
   "execution_count": null,
   "metadata": {},
   "outputs": [],
   "source": []
  }
 ],
 "metadata": {
  "kernelspec": {
   "display_name": "Python 3.6.5 64-bit",
   "language": "python",
   "name": "python36564bitde12b99718d1406287a92fc9aa2f13b4"
  },
  "language_info": {
   "codemirror_mode": {
    "name": "ipython",
    "version": 3
   },
   "file_extension": ".py",
   "mimetype": "text/x-python",
   "name": "python",
   "nbconvert_exporter": "python",
   "pygments_lexer": "ipython3",
   "version": "3.6.5"
  }
 },
 "nbformat": 4,
 "nbformat_minor": 4
}
