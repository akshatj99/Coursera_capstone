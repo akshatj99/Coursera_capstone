{
 "cells": [
  {
   "cell_type": "markdown",
   "metadata": {},
   "source": [
    "# A Strategic Helper for a Coffee Salesman"
   ]
  },
  {
   "cell_type": "markdown",
   "metadata": {},
   "source": [
    "## Part 1: Problem Description"
   ]
  },
  {
   "cell_type": "markdown",
   "metadata": {},
   "source": [
    "### There is a budding Coffee salesman who wants to startegize to improve his sales by exploring the neighborhood and provide coffee to any place which uses it in a definite amount\n",
    "\n",
    "### If I were to give an example one borough has a lot of neighborhoods and determining where to start will be a tough job therefore we categorise the neighborhoods into cluster depending on the number of distinct venues that use or sell coffee in that particular neighborhood\n",
    "\n",
    "### The salesman should be able to strategize on where to start his sales depending upon the conclusion drawn from the data"
   ]
  },
  {
   "cell_type": "markdown",
   "metadata": {},
   "source": [
    "## Part 2: Data Needed"
   ]
  },
  {
   "cell_type": "markdown",
   "metadata": {},
   "source": [
    "### 1. We will be needing information on the borough and neighborhoods that exist and their geographical coordinates and we take the borough to be \"North York\" in the later part of the project. We first extract the full list of Postalcodes, Boroughs and Neighborhoods from Wikipedia and their geographical coordinates from Opencage geocoder API\n",
    "\n",
    "### 2. We will also need data about the venues present in different neighborhoods which we will extract using the \"Foursquare API\" such as the different venue types, venue names, category, etc. present in the neighborhoods"
   ]
  },
  {
   "cell_type": "code",
   "execution_count": null,
   "metadata": {},
   "outputs": [],
   "source": []
  }
 ],
 "metadata": {
  "kernelspec": {
   "display_name": "Python 3.6.5 64-bit",
   "language": "python",
   "name": "python36564bitde12b99718d1406287a92fc9aa2f13b4"
  },
  "language_info": {
   "codemirror_mode": {
    "name": "ipython",
    "version": 3
   },
   "file_extension": ".py",
   "mimetype": "text/x-python",
   "name": "python",
   "nbconvert_exporter": "python",
   "pygments_lexer": "ipython3",
   "version": "3.6.5"
  }
 },
 "nbformat": 4,
 "nbformat_minor": 4
}
